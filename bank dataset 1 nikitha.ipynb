{
 "cells": [
  {
   "cell_type": "code",
   "execution_count": 1,
   "id": "1ed344ca",
   "metadata": {
    "scrolled": false
   },
   "outputs": [],
   "source": [
    "#bank.csv ( it is new dataset )It is example of classification algorithm\n",
    "import numpy as np\n",
    "import pandas as pd\n",
    "import matplotlib.pyplot as plt\n",
    "import seaborn as sb\n",
    "import warnings\n",
    "warnings.filterwarnings('ignore')"
   ]
  },
  {
   "cell_type": "code",
   "execution_count": 2,
   "id": "1c1d33f8",
   "metadata": {
    "scrolled": false
   },
   "outputs": [
    {
     "data": {
      "text/plain": [
       "'C:\\\\Users\\\\Itvedant CR4-4\\\\Downloads'"
      ]
     },
     "execution_count": 2,
     "metadata": {},
     "output_type": "execute_result"
    }
   ],
   "source": [
    "import os\n",
    "os.getcwd()"
   ]
  },
  {
   "cell_type": "code",
   "execution_count": 3,
   "id": "fb19d929",
   "metadata": {
    "scrolled": false
   },
   "outputs": [
    {
     "data": {
      "text/html": [
       "<div>\n",
       "<style scoped>\n",
       "    .dataframe tbody tr th:only-of-type {\n",
       "        vertical-align: middle;\n",
       "    }\n",
       "\n",
       "    .dataframe tbody tr th {\n",
       "        vertical-align: top;\n",
       "    }\n",
       "\n",
       "    .dataframe thead th {\n",
       "        text-align: right;\n",
       "    }\n",
       "</style>\n",
       "<table border=\"1\" class=\"dataframe\">\n",
       "  <thead>\n",
       "    <tr style=\"text-align: right;\">\n",
       "      <th></th>\n",
       "      <th>age</th>\n",
       "      <th>job</th>\n",
       "      <th>marital</th>\n",
       "      <th>education</th>\n",
       "      <th>default</th>\n",
       "      <th>balance</th>\n",
       "      <th>housing</th>\n",
       "      <th>loan</th>\n",
       "      <th>contact</th>\n",
       "      <th>day</th>\n",
       "      <th>month</th>\n",
       "      <th>duration</th>\n",
       "      <th>campaign</th>\n",
       "      <th>pdays</th>\n",
       "      <th>previous</th>\n",
       "      <th>poutcome</th>\n",
       "      <th>deposit</th>\n",
       "    </tr>\n",
       "  </thead>\n",
       "  <tbody>\n",
       "    <tr>\n",
       "      <th>0</th>\n",
       "      <td>59</td>\n",
       "      <td>0</td>\n",
       "      <td>1</td>\n",
       "      <td>1</td>\n",
       "      <td>0</td>\n",
       "      <td>2343</td>\n",
       "      <td>1</td>\n",
       "      <td>0</td>\n",
       "      <td>2</td>\n",
       "      <td>5</td>\n",
       "      <td>8</td>\n",
       "      <td>1042</td>\n",
       "      <td>1</td>\n",
       "      <td>-1</td>\n",
       "      <td>0</td>\n",
       "      <td>3</td>\n",
       "      <td>1</td>\n",
       "    </tr>\n",
       "    <tr>\n",
       "      <th>1</th>\n",
       "      <td>56</td>\n",
       "      <td>0</td>\n",
       "      <td>1</td>\n",
       "      <td>1</td>\n",
       "      <td>0</td>\n",
       "      <td>45</td>\n",
       "      <td>0</td>\n",
       "      <td>0</td>\n",
       "      <td>2</td>\n",
       "      <td>5</td>\n",
       "      <td>8</td>\n",
       "      <td>1467</td>\n",
       "      <td>1</td>\n",
       "      <td>-1</td>\n",
       "      <td>0</td>\n",
       "      <td>3</td>\n",
       "      <td>1</td>\n",
       "    </tr>\n",
       "    <tr>\n",
       "      <th>2</th>\n",
       "      <td>41</td>\n",
       "      <td>9</td>\n",
       "      <td>1</td>\n",
       "      <td>1</td>\n",
       "      <td>0</td>\n",
       "      <td>1270</td>\n",
       "      <td>1</td>\n",
       "      <td>0</td>\n",
       "      <td>2</td>\n",
       "      <td>5</td>\n",
       "      <td>8</td>\n",
       "      <td>1389</td>\n",
       "      <td>1</td>\n",
       "      <td>-1</td>\n",
       "      <td>0</td>\n",
       "      <td>3</td>\n",
       "      <td>1</td>\n",
       "    </tr>\n",
       "    <tr>\n",
       "      <th>3</th>\n",
       "      <td>55</td>\n",
       "      <td>7</td>\n",
       "      <td>1</td>\n",
       "      <td>1</td>\n",
       "      <td>0</td>\n",
       "      <td>2476</td>\n",
       "      <td>1</td>\n",
       "      <td>0</td>\n",
       "      <td>2</td>\n",
       "      <td>5</td>\n",
       "      <td>8</td>\n",
       "      <td>579</td>\n",
       "      <td>1</td>\n",
       "      <td>-1</td>\n",
       "      <td>0</td>\n",
       "      <td>3</td>\n",
       "      <td>1</td>\n",
       "    </tr>\n",
       "    <tr>\n",
       "      <th>4</th>\n",
       "      <td>54</td>\n",
       "      <td>0</td>\n",
       "      <td>1</td>\n",
       "      <td>2</td>\n",
       "      <td>0</td>\n",
       "      <td>184</td>\n",
       "      <td>0</td>\n",
       "      <td>0</td>\n",
       "      <td>2</td>\n",
       "      <td>5</td>\n",
       "      <td>8</td>\n",
       "      <td>673</td>\n",
       "      <td>2</td>\n",
       "      <td>-1</td>\n",
       "      <td>0</td>\n",
       "      <td>3</td>\n",
       "      <td>1</td>\n",
       "    </tr>\n",
       "  </tbody>\n",
       "</table>\n",
       "</div>"
      ],
      "text/plain": [
       "   age  job  marital  education  default  balance  housing  loan  contact  \\\n",
       "0   59    0        1          1        0     2343        1     0        2   \n",
       "1   56    0        1          1        0       45        0     0        2   \n",
       "2   41    9        1          1        0     1270        1     0        2   \n",
       "3   55    7        1          1        0     2476        1     0        2   \n",
       "4   54    0        1          2        0      184        0     0        2   \n",
       "\n",
       "   day  month  duration  campaign  pdays  previous  poutcome  deposit  \n",
       "0    5      8      1042         1     -1         0         3        1  \n",
       "1    5      8      1467         1     -1         0         3        1  \n",
       "2    5      8      1389         1     -1         0         3        1  \n",
       "3    5      8       579         1     -1         0         3        1  \n",
       "4    5      8       673         2     -1         0         3        1  "
      ]
     },
     "execution_count": 3,
     "metadata": {},
     "output_type": "execute_result"
    }
   ],
   "source": [
    "#To load dataset\n",
    "df=pd.read_csv(\"bank.csv\")\n",
    "df.head()"
   ]
  },
  {
   "cell_type": "code",
   "execution_count": 4,
   "id": "45b80988",
   "metadata": {
    "scrolled": false
   },
   "outputs": [
    {
     "data": {
      "text/plain": [
       "(11162, 17)"
      ]
     },
     "execution_count": 4,
     "metadata": {},
     "output_type": "execute_result"
    }
   ],
   "source": [
    "#To check no. of rows and columns\n",
    "df.shape"
   ]
  },
  {
   "cell_type": "code",
   "execution_count": 5,
   "id": "c033e8ce",
   "metadata": {
    "scrolled": false
   },
   "outputs": [
    {
     "data": {
      "text/plain": [
       "age          0\n",
       "job          0\n",
       "marital      0\n",
       "education    0\n",
       "default      0\n",
       "balance      0\n",
       "housing      0\n",
       "loan         0\n",
       "contact      0\n",
       "day          0\n",
       "month        0\n",
       "duration     0\n",
       "campaign     0\n",
       "pdays        0\n",
       "previous     0\n",
       "poutcome     0\n",
       "deposit      0\n",
       "dtype: int64"
      ]
     },
     "execution_count": 5,
     "metadata": {},
     "output_type": "execute_result"
    }
   ],
   "source": [
    "#Preprocessing \n",
    "#To check null values\n",
    "df.isnull().sum()"
   ]
  },
  {
   "cell_type": "code",
   "execution_count": 6,
   "id": "8ab6c233",
   "metadata": {
    "scrolled": false
   },
   "outputs": [
    {
     "data": {
      "text/plain": [
       "age          int64\n",
       "job          int64\n",
       "marital      int64\n",
       "education    int64\n",
       "default      int64\n",
       "balance      int64\n",
       "housing      int64\n",
       "loan         int64\n",
       "contact      int64\n",
       "day          int64\n",
       "month        int64\n",
       "duration     int64\n",
       "campaign     int64\n",
       "pdays        int64\n",
       "previous     int64\n",
       "poutcome     int64\n",
       "deposit      int64\n",
       "dtype: object"
      ]
     },
     "execution_count": 6,
     "metadata": {},
     "output_type": "execute_result"
    }
   ],
   "source": [
    "#To check datatypes of each columns\n",
    "df.dtypes"
   ]
  },
  {
   "cell_type": "code",
   "execution_count": 7,
   "id": "ef17204d",
   "metadata": {
    "scrolled": false
   },
   "outputs": [
    {
     "data": {
      "image/png": "[encoded data removed]",
      "text/plain": [
       "<Figure size 640x480 with 2 Axes>"
      ]
     },
     "metadata": {},
     "output_type": "display_data"
    }
   ],
   "source": [
    "#visualise null values\n",
    "sb.heatmap(df.isnull())\n",
    "plt.show()"
   ]
  },
  {
   "cell_type": "code",
   "execution_count": 8,
   "id": "fdd55dfa",
   "metadata": {
    "scrolled": false
   },
   "outputs": [
    {
     "data": {
      "text/plain": [
       "0"
      ]
     },
     "execution_count": 8,
     "metadata": {},
     "output_type": "execute_result"
    }
   ],
   "source": [
    "#2. To check duplicates rows \n",
    "df.duplicated().sum()"
   ]
  },
  {
   "cell_type": "code",
   "execution_count": 9,
   "id": "98781290",
   "metadata": {
    "scrolled": false
   },
   "outputs": [
    {
     "data": {
      "text/plain": [
       "0    5873\n",
       "1    5289\n",
       "Name: deposit, dtype: int64"
      ]
     },
     "execution_count": 9,
     "metadata": {},
     "output_type": "execute_result"
    }
   ],
   "source": [
    "#Check How many samples for 0's (means no subscribe for deposit)\n",
    "#1's (means subscribe for deposit)\n",
    "df['deposit'].value_counts()"
   ]
  },
  {
   "cell_type": "code",
   "execution_count": 10,
   "id": "2805b9b7",
   "metadata": {
    "scrolled": false
   },
   "outputs": [],
   "source": [
    "#Select input and output from given dataset\n",
    "X=df.drop(\"deposit\",axis=1) #select input\n",
    "Y=df['deposit'] #select output"
   ]
  },
  {
   "cell_type": "code",
   "execution_count": 11,
   "id": "5c25a96f",
   "metadata": {
    "scrolled": false
   },
   "outputs": [
    {
     "data": {
      "text/plain": [
       "Index(['age', 'job', 'marital', 'education', 'default', 'balance', 'housing',\n",
       "       'loan', 'contact', 'day', 'month', 'duration', 'campaign', 'pdays',\n",
       "       'previous', 'poutcome'],\n",
       "      dtype='object')"
      ]
     },
     "execution_count": 11,
     "metadata": {},
     "output_type": "execute_result"
    }
   ],
   "source": [
    "X.columns"
   ]
  },
  {
   "cell_type": "code",
   "execution_count": 12,
   "id": "779db16b",
   "metadata": {
    "scrolled": false
   },
   "outputs": [],
   "source": [
    "#train test split 70% and 30%\n",
    "from sklearn.model_selection import train_test_split\n",
    "X_train,X_test,Y_train,Y_test=train_test_split(X,Y,test_size=0.3,\n",
    "                                              random_state=1)"
   ]
  },
  {
   "cell_type": "code",
   "execution_count": 13,
   "id": "d81bf455",
   "metadata": {
    "scrolled": false
   },
   "outputs": [
    {
     "data": {
      "text/plain": [
       "((7813, 16), (7813,))"
      ]
     },
     "execution_count": 13,
     "metadata": {},
     "output_type": "execute_result"
    }
   ],
   "source": [
    "X_train.shape,Y_train.shape"
   ]
  },
  {
   "cell_type": "code",
   "execution_count": 14,
   "id": "581fbf06",
   "metadata": {
    "scrolled": false
   },
   "outputs": [
    {
     "data": {
      "text/plain": [
       "((3349, 16), (3349,))"
      ]
     },
     "execution_count": 14,
     "metadata": {},
     "output_type": "execute_result"
    }
   ],
   "source": [
    "X_test.shape,Y_test.shape"
   ]
  },
  {
   "cell_type": "code",
   "execution_count": 15,
   "id": "1d9a7db6",
   "metadata": {
    "scrolled": false
   },
   "outputs": [],
   "source": [
    "#Apply Standard Scaler on X_train and X_test \n",
    "from sklearn.preprocessing import StandardScaler\n",
    "#create object of StandardScaler class\n",
    "ss=StandardScaler()\n",
    "X_train=ss.fit_transform(X_train)\n",
    "X_test=ss.transform(X_test)"
   ]
  },
  {
   "cell_type": "code",
   "execution_count": 16,
   "id": "a4a506b1",
   "metadata": {
    "scrolled": false
   },
   "outputs": [
    {
     "data": {
      "text/plain": [
       "array([[ 2.76552511,  0.15596991, -0.32335267, ..., -0.48203214,\n",
       "        -0.35894691,  0.52287872],\n",
       "       [ 1.16824122, -1.0830671 , -0.32335267, ..., -0.48203214,\n",
       "        -0.35894691,  0.52287872],\n",
       "       [ 1.33637636,  1.39500692, -0.32335267, ..., -0.48203214,\n",
       "        -0.35894691,  0.52287872],\n",
       "       ...,\n",
       "       [-1.18565083, -0.77330785, -0.32335267, ..., -0.48203214,\n",
       "        -0.35894691,  0.52287872],\n",
       "       [-0.00870481, -1.39282635,  1.27358436, ...,  3.07264515,\n",
       "         4.3350541 , -0.47109973],\n",
       "       [-0.42904267, -1.0830671 , -0.32335267, ..., -0.48203214,\n",
       "        -0.35894691,  0.52287872]])"
      ]
     },
     "execution_count": 16,
     "metadata": {},
     "output_type": "execute_result"
    }
   ],
   "source": [
    "X_train"
   ]
  },
  {
   "cell_type": "code",
   "execution_count": 17,
   "id": "a001daa0",
   "metadata": {
    "scrolled": false
   },
   "outputs": [
    {
     "data": {
      "text/plain": [
       "4     2566\n",
       "1     1944\n",
       "9     1823\n",
       "0     1334\n",
       "7      923\n",
       "5      778\n",
       "6      405\n",
       "8      360\n",
       "10     357\n",
       "2      328\n",
       "3      274\n",
       "11      70\n",
       "Name: job, dtype: int64"
      ]
     },
     "execution_count": 17,
     "metadata": {},
     "output_type": "execute_result"
    }
   ],
   "source": [
    "df['job'].value_counts()"
   ]
  },
  {
   "cell_type": "code",
   "execution_count": 18,
   "id": "d5e7f6fd",
   "metadata": {
    "scrolled": false
   },
   "outputs": [
    {
     "data": {
      "text/plain": [
       "1    6351\n",
       "2    3518\n",
       "0    1293\n",
       "Name: marital, dtype: int64"
      ]
     },
     "execution_count": 18,
     "metadata": {},
     "output_type": "execute_result"
    }
   ],
   "source": [
    "df['marital'].value_counts()"
   ]
  },
  {
   "cell_type": "code",
   "execution_count": 19,
   "id": "896b42a3",
   "metadata": {
    "scrolled": false
   },
   "outputs": [
    {
     "data": {
      "text/plain": [
       "1    5476\n",
       "2    3689\n",
       "0    1500\n",
       "3     497\n",
       "Name: education, dtype: int64"
      ]
     },
     "execution_count": 19,
     "metadata": {},
     "output_type": "execute_result"
    }
   ],
   "source": [
    "df['education'].value_counts()"
   ]
  },
  {
   "cell_type": "code",
   "execution_count": 20,
   "id": "d280376e",
   "metadata": {
    "scrolled": false
   },
   "outputs": [],
   "source": [
    "#Create a user defined function\n",
    "\n",
    "#passing Arguments/prameters and return value\n",
    "def create_model(model) :  #here create_model() user defined function name\n",
    "    #model is a user defined parameter which hold the object of algorithm\n",
    "    model.fit(X_train,Y_train) #train the model with 70% training data\n",
    "    Y_pred=model.predict(X_test) #test the model with 30% input\n",
    "    #print confusion matrix\n",
    "    print(confusion_matrix(Y_test,Y_pred))\n",
    "    #print classification report\n",
    "    print(classification_report(Y_test,Y_pred))\n",
    "    return model"
   ]
  },
  {
   "cell_type": "code",
   "execution_count": 21,
   "id": "dde246ca",
   "metadata": {
    "scrolled": false
   },
   "outputs": [],
   "source": [
    "from sklearn.metrics import classification_report\n",
    "from sklearn.metrics import confusion_matrix"
   ]
  },
  {
   "cell_type": "code",
   "execution_count": 22,
   "id": "234c0c59",
   "metadata": {
    "scrolled": false
   },
   "outputs": [],
   "source": [
    "#Use LogisticRegression Algorithm\n",
    "from sklearn.linear_model import LogisticRegression "
   ]
  },
  {
   "cell_type": "code",
   "execution_count": 23,
   "id": "a77c6917",
   "metadata": {
    "scrolled": false
   },
   "outputs": [],
   "source": [
    "#Create object of LogisticRegression  class\n",
    "lr=LogisticRegression ()"
   ]
  },
  {
   "cell_type": "code",
   "execution_count": 24,
   "id": "9833cc2d",
   "metadata": {
    "scrolled": false
   },
   "outputs": [
    {
     "name": "stdout",
     "output_type": "stream",
     "text": [
      "[[1441  319]\n",
      " [ 359 1230]]\n",
      "              precision    recall  f1-score   support\n",
      "\n",
      "           0       0.80      0.82      0.81      1760\n",
      "           1       0.79      0.77      0.78      1589\n",
      "\n",
      "    accuracy                           0.80      3349\n",
      "   macro avg       0.80      0.80      0.80      3349\n",
      "weighted avg       0.80      0.80      0.80      3349\n",
      "\n"
     ]
    }
   ],
   "source": [
    "#call user defined function and passing the parameter lr (object of\n",
    "#LogisticRegression  class)\n",
    "lr=create_model(lr)"
   ]
  },
  {
   "cell_type": "code",
   "execution_count": 25,
   "id": "c03bbbe7",
   "metadata": {
    "scrolled": false
   },
   "outputs": [],
   "source": [
    "#recall=77% whoch is good but not better \n",
    "#use DecisionTreeClassifier class"
   ]
  },
  {
   "cell_type": "code",
   "execution_count": 26,
   "id": "fe10f9b5",
   "metadata": {
    "scrolled": false
   },
   "outputs": [
    {
     "data": {
      "text/plain": [
       "'C:\\\\Users\\\\Itvedant CR4-4\\\\Downloads'"
      ]
     },
     "execution_count": 26,
     "metadata": {},
     "output_type": "execute_result"
    }
   ],
   "source": [
    "import os\n",
    "os.getcwd()"
   ]
  },
  {
   "cell_type": "code",
   "execution_count": 27,
   "id": "045bbaa4",
   "metadata": {
    "scrolled": false
   },
   "outputs": [],
   "source": [
    "#10-01-2024\n",
    "from sklearn.tree import DecisionTreeClassifier"
   ]
  },
  {
   "cell_type": "code",
   "execution_count": 28,
   "id": "99040bd3",
   "metadata": {
    "scrolled": false
   },
   "outputs": [],
   "source": [
    "#create object of DecisionTreeClassifier class\n",
    "dt=DecisionTreeClassifier(random_state=1) #bydefault use method gini index"
   ]
  },
  {
   "cell_type": "code",
   "execution_count": 29,
   "id": "e8cba694",
   "metadata": {
    "scrolled": false
   },
   "outputs": [
    {
     "name": "stdout",
     "output_type": "stream",
     "text": [
      "[[1407  353]\n",
      " [ 372 1217]]\n",
      "              precision    recall  f1-score   support\n",
      "\n",
      "           0       0.79      0.80      0.80      1760\n",
      "           1       0.78      0.77      0.77      1589\n",
      "\n",
      "    accuracy                           0.78      3349\n",
      "   macro avg       0.78      0.78      0.78      3349\n",
      "weighted avg       0.78      0.78      0.78      3349\n",
      "\n"
     ]
    }
   ],
   "source": [
    "#call function\n",
    "dt=create_model(dt)"
   ]
  },
  {
   "cell_type": "code",
   "execution_count": 30,
   "id": "ce5884ff",
   "metadata": {
    "scrolled": false
   },
   "outputs": [
    {
     "data": {
      "text/html": [
       "<div>\n",
       "<style scoped>\n",
       "    .dataframe tbody tr th:only-of-type {\n",
       "        vertical-align: middle;\n",
       "    }\n",
       "\n",
       "    .dataframe tbody tr th {\n",
       "        vertical-align: top;\n",
       "    }\n",
       "\n",
       "    .dataframe thead th {\n",
       "        text-align: right;\n",
       "    }\n",
       "</style>\n",
       "<table border=\"1\" class=\"dataframe\">\n",
       "  <thead>\n",
       "    <tr style=\"text-align: right;\">\n",
       "      <th></th>\n",
       "      <th>Input Columns</th>\n",
       "      <th>IG</th>\n",
       "    </tr>\n",
       "  </thead>\n",
       "  <tbody>\n",
       "    <tr>\n",
       "      <th>11</th>\n",
       "      <td>duration</td>\n",
       "      <td>0.354008</td>\n",
       "    </tr>\n",
       "    <tr>\n",
       "      <th>10</th>\n",
       "      <td>month</td>\n",
       "      <td>0.098357</td>\n",
       "    </tr>\n",
       "    <tr>\n",
       "      <th>5</th>\n",
       "      <td>balance</td>\n",
       "      <td>0.084437</td>\n",
       "    </tr>\n",
       "    <tr>\n",
       "      <th>0</th>\n",
       "      <td>age</td>\n",
       "      <td>0.077136</td>\n",
       "    </tr>\n",
       "    <tr>\n",
       "      <th>9</th>\n",
       "      <td>day</td>\n",
       "      <td>0.076581</td>\n",
       "    </tr>\n",
       "    <tr>\n",
       "      <th>8</th>\n",
       "      <td>contact</td>\n",
       "      <td>0.061793</td>\n",
       "    </tr>\n",
       "    <tr>\n",
       "      <th>13</th>\n",
       "      <td>pdays</td>\n",
       "      <td>0.047856</td>\n",
       "    </tr>\n",
       "    <tr>\n",
       "      <th>6</th>\n",
       "      <td>housing</td>\n",
       "      <td>0.042620</td>\n",
       "    </tr>\n",
       "    <tr>\n",
       "      <th>15</th>\n",
       "      <td>poutcome</td>\n",
       "      <td>0.036110</td>\n",
       "    </tr>\n",
       "    <tr>\n",
       "      <th>1</th>\n",
       "      <td>job</td>\n",
       "      <td>0.034220</td>\n",
       "    </tr>\n",
       "    <tr>\n",
       "      <th>14</th>\n",
       "      <td>previous</td>\n",
       "      <td>0.025851</td>\n",
       "    </tr>\n",
       "    <tr>\n",
       "      <th>12</th>\n",
       "      <td>campaign</td>\n",
       "      <td>0.022316</td>\n",
       "    </tr>\n",
       "    <tr>\n",
       "      <th>2</th>\n",
       "      <td>marital</td>\n",
       "      <td>0.016968</td>\n",
       "    </tr>\n",
       "    <tr>\n",
       "      <th>3</th>\n",
       "      <td>education</td>\n",
       "      <td>0.014356</td>\n",
       "    </tr>\n",
       "    <tr>\n",
       "      <th>7</th>\n",
       "      <td>loan</td>\n",
       "      <td>0.006934</td>\n",
       "    </tr>\n",
       "    <tr>\n",
       "      <th>4</th>\n",
       "      <td>default</td>\n",
       "      <td>0.000456</td>\n",
       "    </tr>\n",
       "  </tbody>\n",
       "</table>\n",
       "</div>"
      ],
      "text/plain": [
       "   Input Columns        IG\n",
       "11      duration  0.354008\n",
       "10         month  0.098357\n",
       "5        balance  0.084437\n",
       "0            age  0.077136\n",
       "9            day  0.076581\n",
       "8        contact  0.061793\n",
       "13         pdays  0.047856\n",
       "6        housing  0.042620\n",
       "15      poutcome  0.036110\n",
       "1            job  0.034220\n",
       "14      previous  0.025851\n",
       "12      campaign  0.022316\n",
       "2        marital  0.016968\n",
       "3      education  0.014356\n",
       "7           loan  0.006934\n",
       "4        default  0.000456"
      ]
     },
     "execution_count": 30,
     "metadata": {},
     "output_type": "execute_result"
    }
   ],
   "source": [
    "dict={'Input Columns':X.columns,'IG':dt.feature_importances_ }\n",
    "#IG means information Gain\n",
    "#convert dictionary into DataFrame\n",
    "df1=pd.DataFrame(dict)\n",
    "#sorting dataframe df1 according to IG column in descending order \n",
    "#use inbuilt method sort_values() of pandas library\n",
    "df1.sort_values('IG',ascending=False) #by default ascending=True \n",
    "#means ascending order"
   ]
  },
  {
   "cell_type": "code",
   "execution_count": 31,
   "id": "ace8ee47",
   "metadata": {
    "scrolled": false
   },
   "outputs": [],
   "source": [
    "#draw tree\n",
    "#create a tree \n",
    "#from sklearn import tree\n",
    "#features=X.columns.tolist()\n",
    "#to store all input columns in features user defined list object\n",
    "\n",
    "#plt.figure(figsize=(20,20))\n",
    "#_=tree.plot_tree(dt,feature_names=features,filled=True)"
   ]
  },
  {
   "cell_type": "code",
   "execution_count": 32,
   "id": "b2920462",
   "metadata": {
    "scrolled": false
   },
   "outputs": [],
   "source": [
    "#in decisiontree , also recall score =77% (behind the region : overfitting)\n",
    "#We have to apply Pruning technique to reduced overfitting of model \n",
    "#There are 2 types of Pruning Technique of DecisionTreeClassifier class \n",
    "#1. max_depth : inbuilt parameter \n",
    "#2. min_samples_leaf   : inbuilt parameter \n",
    "#leaf means no child"
   ]
  },
  {
   "cell_type": "code",
   "execution_count": 33,
   "id": "78c8f139",
   "metadata": {
    "scrolled": false
   },
   "outputs": [
    {
     "name": "stdout",
     "output_type": "stream",
     "text": [
      "Confusion Matrix and Classification report\n",
      "[[1316  444]\n",
      " [ 228 1361]]\n",
      "              precision    recall  f1-score   support\n",
      "\n",
      "           0       0.85      0.75      0.80      1760\n",
      "           1       0.75      0.86      0.80      1589\n",
      "\n",
      "    accuracy                           0.80      3349\n",
      "   macro avg       0.80      0.80      0.80      3349\n",
      "weighted avg       0.81      0.80      0.80      3349\n",
      "\n"
     ]
    }
   ],
   "source": [
    "#1. max_depth : inbuilt parameter of DecisionTreeClassifier class \n",
    "#Note : max_depth cannot more than 8 \n",
    "#create the object of DecisionTreeClassifier class and passing the parameter\n",
    "#max_depth\n",
    "'''for i in range(1,9): #start i=1 stop =9-1=8 step=+1\n",
    "    dt1=DecisionTreeClassifier(random_state=1,max_depth=i) \n",
    "    #method bydefault use gini index\n",
    "    #call function \n",
    "    print(\"Max depth : \",i)\n",
    "    print(\"Confusion Matrix and Classification report\")\n",
    "    dt1=create_model(dt1)'''\n",
    "\n",
    "dt1=DecisionTreeClassifier(random_state=1,max_depth=5) \n",
    "#method bydefault use gini index\n",
    "#call function \n",
    "print(\"Confusion Matrix and Classification report\")\n",
    "dt1=create_model(dt1)"
   ]
  },
  {
   "cell_type": "code",
   "execution_count": 34,
   "id": "17a87bac",
   "metadata": {
    "scrolled": false
   },
   "outputs": [],
   "source": [
    "#features=X.columns.tolist()\n",
    "#to store all input columns in features user defined list object\n",
    "\n",
    "#plt.figure(figsize=(20,20))\n",
    "#_=tree.plot_tree(dt1,feature_names=features,filled=True)"
   ]
  },
  {
   "cell_type": "code",
   "execution_count": 35,
   "id": "3d4f2e67",
   "metadata": {
    "scrolled": false
   },
   "outputs": [],
   "source": [
    "#MAX DEPTH =5 WITH GIN INDEX  : RECALL SCORE=86% AND ACCURACY=80%\n",
    "#SCORE IS VERY GOOD"
   ]
  },
  {
   "cell_type": "code",
   "execution_count": 36,
   "id": "b137ffea",
   "metadata": {
    "scrolled": false
   },
   "outputs": [
    {
     "name": "stdout",
     "output_type": "stream",
     "text": [
      "Confusion Matrix and Classification report\n",
      "[[1364  396]\n",
      " [ 298 1291]]\n",
      "              precision    recall  f1-score   support\n",
      "\n",
      "           0       0.82      0.78      0.80      1760\n",
      "           1       0.77      0.81      0.79      1589\n",
      "\n",
      "    accuracy                           0.79      3349\n",
      "   macro avg       0.79      0.79      0.79      3349\n",
      "weighted avg       0.79      0.79      0.79      3349\n",
      "\n"
     ]
    }
   ],
   "source": [
    "#use Entropy method with decisiontree class\n",
    "#for i in range(1,9): #start i=1 stop =9-1=8 step=+1\n",
    "dt1=DecisionTreeClassifier(random_state=1,max_depth=6,\n",
    "                               criterion='entropy') \n",
    "#method bydefault use gini index\n",
    "#call function \n",
    "\n",
    "print(\"Confusion Matrix and Classification report\")\n",
    "dt1=create_model(dt1)"
   ]
  },
  {
   "cell_type": "code",
   "execution_count": 37,
   "id": "98fc6935",
   "metadata": {
    "scrolled": false
   },
   "outputs": [],
   "source": [
    "#second pruning technique : min_samples_leaf    inbuilt parameter of\n",
    "#DecisionTreeClassifier class \n",
    "#leaf means no child \n",
    "#min_samples_leaf :  min 45  and max =100\n"
   ]
  },
  {
   "cell_type": "code",
   "execution_count": 38,
   "id": "d9525a3f",
   "metadata": {
    "scrolled": true
   },
   "outputs": [
    {
     "data": {
      "text/plain": [
       "'for i in range(45,101): #start i=45 stop =101-1=100 step=+1\\n    dt1=DecisionTreeClassifier(random_state=1,min_samples_leaf=i) \\n    #method bydefault use gini index\\n    #call function \\n    print(\"min samples leaf : \",i)\\n    print(\"Confusion Matrix and Classification report\")\\n    dt1=create_model(dt1)'"
      ]
     },
     "execution_count": 38,
     "metadata": {},
     "output_type": "execute_result"
    }
   ],
   "source": [
    "#create the object of DecisionTreeClassifier class and passing the parameter\n",
    "#min_samples_leaf\n",
    "'''for i in range(45,101): #start i=45 stop =101-1=100 step=+1\n",
    "    dt1=DecisionTreeClassifier(random_state=1,min_samples_leaf=i) \n",
    "    #method bydefault use gini index\n",
    "    #call function \n",
    "    print(\"min samples leaf : \",i)\n",
    "    print(\"Confusion Matrix and Classification report\")\n",
    "    dt1=create_model(dt1)'''"
   ]
  },
  {
   "cell_type": "code",
   "execution_count": 39,
   "id": "a5514b81",
   "metadata": {
    "scrolled": true
   },
   "outputs": [
    {
     "name": "stdout",
     "output_type": "stream",
     "text": [
      "Confusion Matrix and Classification report\n",
      "[[1379  381]\n",
      " [ 204 1385]]\n",
      "              precision    recall  f1-score   support\n",
      "\n",
      "           0       0.87      0.78      0.83      1760\n",
      "           1       0.78      0.87      0.83      1589\n",
      "\n",
      "    accuracy                           0.83      3349\n",
      "   macro avg       0.83      0.83      0.83      3349\n",
      "weighted avg       0.83      0.83      0.83      3349\n",
      "\n"
     ]
    }
   ],
   "source": [
    "#create the object of DecisionTreeClassifier class and passing the parameter\n",
    "#min_samples_leaf\n",
    "\n",
    "dt1=DecisionTreeClassifier(random_state=1,min_samples_leaf=45) \n",
    "#method bydefault use gini index\n",
    "#call function \n",
    "\n",
    "print(\"Confusion Matrix and Classification report\")\n",
    "dt1=create_model(dt1)"
   ]
  },
  {
   "cell_type": "code",
   "execution_count": 40,
   "id": "ab91aaef",
   "metadata": {
    "scrolled": true
   },
   "outputs": [
    {
     "data": {
      "text/plain": [
       "<Figure size 2000x2000 with 0 Axes>"
      ]
     },
     "execution_count": 40,
     "metadata": {},
     "output_type": "execute_result"
    },
    {
     "data": {
      "text/plain": [
       "<Figure size 2000x2000 with 0 Axes>"
      ]
     },
     "metadata": {},
     "output_type": "display_data"
    }
   ],
   "source": [
    "features=X.columns.tolist()\n",
    "#to store all input columns in features user defined list object\n",
    "\n",
    "plt.figure(figsize=(20,20))\n",
    "#_=tree.plot_tree(dt1,feature_names=features,filled=True)"
   ]
  },
  {
   "cell_type": "code",
   "execution_count": 41,
   "id": "741c5157",
   "metadata": {
    "scrolled": true
   },
   "outputs": [],
   "source": [
    "#best method in this dataset(bank.csv)\n",
    "#DecisionTreeClassifier(Gini Index) with min_samples_leaf=45\n",
    "#recall score=87% and accuracy=83%"
   ]
  },
  {
   "cell_type": "code",
   "execution_count": 42,
   "id": "549f5a29",
   "metadata": {
    "scrolled": true
   },
   "outputs": [],
   "source": [
    "#Ensembling Technique : -\n",
    "#1. Bootstraping :-\n",
    "#RandomForestTree (use Bagging)\n",
    "#inbuilt class RandomForestClassifier -->define in inbuilt outer class\n",
    "#ensemble  -->inbuilt package sklearn\n",
    "from sklearn.ensemble import RandomForestClassifier "
   ]
  },
  {
   "cell_type": "code",
   "execution_count": 43,
   "id": "516bf500",
   "metadata": {
    "scrolled": true
   },
   "outputs": [
    {
     "name": "stdout",
     "output_type": "stream",
     "text": [
      "[[1435  325]\n",
      " [ 193 1396]]\n",
      "              precision    recall  f1-score   support\n",
      "\n",
      "           0       0.88      0.82      0.85      1760\n",
      "           1       0.81      0.88      0.84      1589\n",
      "\n",
      "    accuracy                           0.85      3349\n",
      "   macro avg       0.85      0.85      0.85      3349\n",
      "weighted avg       0.85      0.85      0.85      3349\n",
      "\n"
     ]
    }
   ],
   "source": [
    "'''for i in range(10,101):  #start i=10  stop=101-1=100 and step=+1\n",
    "    #train on minimum 10 decision tree and max 100 \n",
    "    #create object of RandomForestClassifier  class\n",
    "    rfc=RandomForestClassifier(random_state=1,n_estimators=i)\n",
    "    #n_estimators inbuilt parameter of RandomForestClassifier  class\n",
    "    #how many no. of decisiontree for train the model\n",
    "    print(\"No. of decision Tree : \",i)\n",
    "    #call function\n",
    "    rfc=create_model(rfc)'''\n",
    "\n",
    "#create object of RandomForestClassifier  class and passing the value of \n",
    "#n_estimators parameters =65 \n",
    "rfc=RandomForestClassifier(random_state=1,n_estimators=65)\n",
    "#n_estimators inbuilt parameter of RandomForestClassifier  class\n",
    "    #how many no. of decisiontree for train the model\n",
    "#call function\n",
    "rfc=create_model(rfc)    "
   ]
  },
  {
   "cell_type": "code",
   "execution_count": 44,
   "id": "59e50158",
   "metadata": {
    "scrolled": true
   },
   "outputs": [
    {
     "data": {
      "text/plain": [
       "array([0.08749828, 0.03986482, 0.01960524, 0.02217122, 0.00137422,\n",
       "       0.08911558, 0.03326097, 0.01027073, 0.03993372, 0.07157137,\n",
       "       0.08313332, 0.3607039 , 0.0332358 , 0.05116325, 0.01900209,\n",
       "       0.0380955 ])"
      ]
     },
     "execution_count": 44,
     "metadata": {},
     "output_type": "execute_result"
    }
   ],
   "source": [
    "rfc.feature_importances_"
   ]
  },
  {
   "cell_type": "code",
   "execution_count": 45,
   "id": "f686dbcb",
   "metadata": {
    "scrolled": true
   },
   "outputs": [
    {
     "data": {
      "text/plain": [
       "Index(['age', 'job', 'marital', 'education', 'default', 'balance', 'housing',\n",
       "       'loan', 'contact', 'day', 'month', 'duration', 'campaign', 'pdays',\n",
       "       'previous', 'poutcome'],\n",
       "      dtype='object')"
      ]
     },
     "execution_count": 45,
     "metadata": {},
     "output_type": "execute_result"
    }
   ],
   "source": [
    "X.columns"
   ]
  },
  {
   "cell_type": "code",
   "execution_count": 46,
   "id": "d8b59700",
   "metadata": {
    "scrolled": true
   },
   "outputs": [],
   "source": [
    "#recall score=88% (0.88)\n",
    "#accuracy =0.85(85%)"
   ]
  },
  {
   "cell_type": "code",
   "execution_count": 47,
   "id": "3bb239f0",
   "metadata": {
    "scrolled": true
   },
   "outputs": [],
   "source": [
    "#Boosting : next Ensembling technique :- It is also work on DecisionTree\n",
    "#classifier\n",
    "#1. ADA Boost :  Adaptor boosting\n",
    "#ada BOOST work on decision stump\n",
    "#what is decision stump?\n",
    "#decision stump means one root node and 2 leaf node\n",
    "\n",
    "#use inbuilt class AdaBoostClassifier\n",
    "from sklearn.ensemble import AdaBoostClassifier"
   ]
  },
  {
   "cell_type": "code",
   "execution_count": 48,
   "id": "e7504aa6",
   "metadata": {
    "scrolled": true
   },
   "outputs": [
    {
     "data": {
      "text/plain": [
       "(11162, 16)"
      ]
     },
     "execution_count": 48,
     "metadata": {},
     "output_type": "execute_result"
    }
   ],
   "source": [
    "X.shape"
   ]
  },
  {
   "cell_type": "code",
   "execution_count": 49,
   "id": "b2bfce3b",
   "metadata": {
    "scrolled": true
   },
   "outputs": [
    {
     "name": "stdout",
     "output_type": "stream",
     "text": [
      "[[1262  498]\n",
      " [ 310 1279]]\n",
      "              precision    recall  f1-score   support\n",
      "\n",
      "           0       0.80      0.72      0.76      1760\n",
      "           1       0.72      0.80      0.76      1589\n",
      "\n",
      "    accuracy                           0.76      3349\n",
      "   macro avg       0.76      0.76      0.76      3349\n",
      "weighted avg       0.76      0.76      0.76      3349\n",
      "\n"
     ]
    },
    {
     "data": {
      "text/plain": [
       "array([0.        , 0.        , 0.        , 0.        , 0.        ,\n",
       "       0.        , 0.        , 0.        , 0.33333333, 0.        ,\n",
       "       0.        , 0.66666667, 0.        , 0.        , 0.        ,\n",
       "       0.        ])"
      ]
     },
     "execution_count": 49,
     "metadata": {},
     "output_type": "execute_result"
    }
   ],
   "source": [
    "'''for i in range(1,17):  #start i=1  stop=17-1\n",
    "    #create object of AdaBoostClassifier class and passing the parameter\n",
    "    #n_estimators (means how many decision stump) \n",
    "    #decision stump depends on input(information gain)\n",
    "    ada=AdaBoostClassifier(random_state=1,n_estimators=i)\n",
    "    print(\"No. of decision stump means no. of inputs \",i)\n",
    "    #call function \n",
    "    ada=create_model(ada)'''\n",
    "#create object of AdaBoostClassifier class and passing the parameter\n",
    "#n_estimators (means how many decision stump) \n",
    "#decision stump depends on input(information gain)\n",
    "ada=AdaBoostClassifier(random_state=1,n_estimators=3)\n",
    "    \n",
    "#call function \n",
    "ada=create_model(ada)\n",
    "ada.feature_importances_ #to show information gain of each features"
   ]
  },
  {
   "cell_type": "code",
   "execution_count": 50,
   "id": "f4fc71f4",
   "metadata": {
    "scrolled": true
   },
   "outputs": [
    {
     "data": {
      "text/plain": [
       "Index(['age', 'job', 'marital', 'education', 'default', 'balance', 'housing',\n",
       "       'loan', 'contact', 'day', 'month', 'duration', 'campaign', 'pdays',\n",
       "       'previous', 'poutcome'],\n",
       "      dtype='object')"
      ]
     },
     "execution_count": 50,
     "metadata": {},
     "output_type": "execute_result"
    }
   ],
   "source": [
    "X.columns"
   ]
  },
  {
   "cell_type": "code",
   "execution_count": 51,
   "id": "daf1229a",
   "metadata": {
    "scrolled": true
   },
   "outputs": [],
   "source": [
    "#2. GradientBoosting Algorithm : Second Technique of Boosting \n",
    "#Its create a fully grown tree (with the help of Gini or Entropy )\n",
    "#and its focus on past errors (short coming error)\n",
    "\n",
    "#use inbuilt class GradientBoostingClassifier : which define in outer class ensemble\n",
    "from sklearn.ensemble import GradientBoostingClassifier "
   ]
  },
  {
   "cell_type": "code",
   "execution_count": 52,
   "id": "a2de3f7c",
   "metadata": {
    "scrolled": true
   },
   "outputs": [
    {
     "name": "stdout",
     "output_type": "stream",
     "text": [
      "[[1438  322]\n",
      " [ 230 1359]]\n",
      "              precision    recall  f1-score   support\n",
      "\n",
      "           0       0.86      0.82      0.84      1760\n",
      "           1       0.81      0.86      0.83      1589\n",
      "\n",
      "    accuracy                           0.84      3349\n",
      "   macro avg       0.84      0.84      0.84      3349\n",
      "weighted avg       0.84      0.84      0.84      3349\n",
      "\n"
     ]
    }
   ],
   "source": [
    "#create object of GradientBoostingClassifier  class and passing the parameter\n",
    "#n_estimators means how many decision tree \n",
    "#min 10 decision tree and max =100 decision tree\n",
    "\n",
    "'''for i in range(10,101): #start =1 stop=101-1=100 step=+1 \n",
    "    gbc=GradientBoostingClassifier (random_state=1,n_estimators=i)\n",
    "    print(\"No. of decision tree : \",i)\n",
    "    #call function\n",
    "    gbc=create_model(gbc)'''\n",
    "\n",
    "\n",
    "gbc=GradientBoostingClassifier (random_state=1,n_estimators=72)\n",
    "   \n",
    "#call function\n",
    "gbc=create_model(gbc)"
   ]
  },
  {
   "cell_type": "code",
   "execution_count": 53,
   "id": "44841280",
   "metadata": {
    "scrolled": true
   },
   "outputs": [],
   "source": [
    "#72 : Recall score =86% and accuracy=84%"
   ]
  },
  {
   "cell_type": "code",
   "execution_count": 54,
   "id": "cb3a7134",
   "metadata": {
    "scrolled": true
   },
   "outputs": [],
   "source": [
    "#3. Extreame Gradient Boosting : 3rd technique of Boosting \n",
    "#install first time inbuilt package xgboost \n",
    "#!pip install xgboost"
   ]
  },
  {
   "cell_type": "code",
   "execution_count": 55,
   "id": "59f9eb11",
   "metadata": {
    "scrolled": true
   },
   "outputs": [],
   "source": [
    "#from xgboost import XGBClassifier\n",
    "#XGBClassifier inbuilt class which define in inbuilt package xgboost"
   ]
  },
  {
   "cell_type": "code",
   "execution_count": 56,
   "id": "4814ec21",
   "metadata": {
    "scrolled": false
   },
   "outputs": [
    {
     "data": {
      "text/plain": [
       "'for i in range(10,101):\\n    xgb=XGBClassifier(random_state=1,n_estimators=i,reg_alpha=1)\\n    print(\"No. of Estimators means trees : \",i)\\n    #call function\\n    xgb=create_model(xgb)'"
      ]
     },
     "execution_count": 56,
     "metadata": {},
     "output_type": "execute_result"
    }
   ],
   "source": [
    "#create object of XGBClassifier class and passing the parameter n_estimators means train how\n",
    "#many decision tree and passing the second parameter reg_alpha=1 means true means handle\n",
    "#overfitting of model automatic\n",
    "\n",
    "#min n_estimators=10 and max=100\n",
    "'''for i in range(10,101):\n",
    "    xgb=XGBClassifier(random_state=1,n_estimators=i,reg_alpha=1)\n",
    "    print(\"No. of Estimators means trees : \",i)\n",
    "    #call function\n",
    "    xgb=create_model(xgb)'''\n",
    "\n",
    "#xgb=XGBClassifier(random_state=1,n_estimators=30,reg_alpha=1)\n",
    "#call function\n",
    "#xgb=create_model(xgb)"
   ]
  },
  {
   "cell_type": "code",
   "execution_count": 57,
   "id": "89d992cf",
   "metadata": {},
   "outputs": [],
   "source": [
    "#best algorithm for bank.csv dataset\n",
    "#accuracy =86% and Recall : 89% "
   ]
  },
  {
   "cell_type": "code",
   "execution_count": 58,
   "id": "49ec6a37",
   "metadata": {},
   "outputs": [],
   "source": [
    "#svm support vector machine    (3rd algorithm)\n",
    "#linear kernel function means to separate 2 classes feom` stra`ig`ht line\n",
    "#use inbuilt class linearSVC ----->defined in outer class svm\n",
    "from sklearn.svm import LinearSVC\n",
    "#create object \n",
    "svc=LinearSVC(random_state=1)#hard margin"
   ]
  },
  {
   "cell_type": "code",
   "execution_count": 59,
   "id": "57eed388",
   "metadata": {},
   "outputs": [
    {
     "name": "stdout",
     "output_type": "stream",
     "text": [
      "[[1444  316]\n",
      " [ 364 1225]]\n",
      "              precision    recall  f1-score   support\n",
      "\n",
      "           0       0.80      0.82      0.81      1760\n",
      "           1       0.79      0.77      0.78      1589\n",
      "\n",
      "    accuracy                           0.80      3349\n",
      "   macro avg       0.80      0.80      0.80      3349\n",
      "weighted avg       0.80      0.80      0.80      3349\n",
      "\n"
     ]
    }
   ],
   "source": [
    "#call function\n",
    "svc=create_model(svc)"
   ]
  },
  {
   "cell_type": "code",
   "execution_count": 63,
   "id": "59b6f457",
   "metadata": {},
   "outputs": [],
   "source": [
    "#linear support vector:\n",
    "#1)hard margin\n",
    "#2) soft margin-to add external error\n",
    "#create object of linear svc class and some error add,use inbuilt parameter c\n",
    "#add erroe between 0-1\n",
    "svc1=LinearSVC(random_state=1,C=0.9)  #after changing this c value if there is no change in recall value then that means\n",
    "#THAT THE DATA IS NON LINEAR\n"
   ]
  },
  {
   "cell_type": "code",
   "execution_count": 64,
   "id": "d458a111",
   "metadata": {},
   "outputs": [
    {
     "name": "stdout",
     "output_type": "stream",
     "text": [
      "[[1445  315]\n",
      " [ 364 1225]]\n",
      "              precision    recall  f1-score   support\n",
      "\n",
      "           0       0.80      0.82      0.81      1760\n",
      "           1       0.80      0.77      0.78      1589\n",
      "\n",
      "    accuracy                           0.80      3349\n",
      "   macro avg       0.80      0.80      0.80      3349\n",
      "weighted avg       0.80      0.80      0.80      3349\n",
      "\n"
     ]
    }
   ],
   "source": [
    "svc1=create_model(svc1)"
   ]
  },
  {
   "cell_type": "code",
   "execution_count": 65,
   "id": "f4e6e6c5",
   "metadata": {},
   "outputs": [],
   "source": [
    "#NON LINEAR DATA there are 2 types of kernel function for non liear data\n",
    "#1.POLYNOMIAL KERNEL FUNCTION:to increase the dimension means to convert low dimension\n",
    "#2.HIGH DIMENSION\n",
    "#3.RADIAL KERNEL FUNCTION\n"
   ]
  },
  {
   "cell_type": "code",
   "execution_count": 68,
   "id": "e8ebd43e",
   "metadata": {},
   "outputs": [],
   "source": [
    "#USE SVC INBUILT CLASS FOR NON LINEAR DATA\n",
    "from sklearn.svm import SVC"
   ]
  },
  {
   "cell_type": "code",
   "execution_count": 70,
   "id": "a91f2ca4",
   "metadata": {},
   "outputs": [],
   "source": [
    "#1.polynomial kernel function: increase the dimension \n",
    "#create the object of SVC class\n",
    "p_svc=SVC(random_state=1,kernel='poly')"
   ]
  },
  {
   "cell_type": "code",
   "execution_count": 71,
   "id": "2bf0c1e2",
   "metadata": {},
   "outputs": [
    {
     "name": "stdout",
     "output_type": "stream",
     "text": [
      "[[1417  343]\n",
      " [ 311 1278]]\n",
      "              precision    recall  f1-score   support\n",
      "\n",
      "           0       0.82      0.81      0.81      1760\n",
      "           1       0.79      0.80      0.80      1589\n",
      "\n",
      "    accuracy                           0.80      3349\n",
      "   macro avg       0.80      0.80      0.80      3349\n",
      "weighted avg       0.81      0.80      0.80      3349\n",
      "\n"
     ]
    }
   ],
   "source": [
    "p_svc=create_model(p_svc)"
   ]
  },
  {
   "cell_type": "code",
   "execution_count": 72,
   "id": "be628ac6",
   "metadata": {},
   "outputs": [
    {
     "name": "stdout",
     "output_type": "stream",
     "text": [
      "[[1407  353]\n",
      " [ 262 1327]]\n",
      "              precision    recall  f1-score   support\n",
      "\n",
      "           0       0.84      0.80      0.82      1760\n",
      "           1       0.79      0.84      0.81      1589\n",
      "\n",
      "    accuracy                           0.82      3349\n",
      "   macro avg       0.82      0.82      0.82      3349\n",
      "weighted avg       0.82      0.82      0.82      3349\n",
      "\n"
     ]
    }
   ],
   "source": [
    "#80%-less score\n",
    "#radial basis kernel function\n",
    "#again create object of svc class\n",
    "r_svc=SVC(random_state=1,kernel=\"rbf\")\n",
    "r_svc=create_model(r_svc)"
   ]
  },
  {
   "cell_type": "code",
   "execution_count": null,
   "id": "9df93a8f",
   "metadata": {},
   "outputs": [],
   "source": [
    "'''\n",
    "algorithm name      score    remark "
   ]
  }
 ],
 "metadata": {
  "kernelspec": {
   "display_name": "Python 3 (ipykernel)",
   "language": "python",
   "name": "python3"
  },
  "language_info": {
   "codemirror_mode": {
    "name": "ipython",
    "version": 3
   },
   "file_extension": ".py",
   "mimetype": "text/x-python",
   "name": "python",
   "nbconvert_exporter": "python",
   "pygments_lexer": "ipython3",
   "version": "3.10.9"
  }
 },
 "nbformat": 4,
 "nbformat_minor": 5
}
